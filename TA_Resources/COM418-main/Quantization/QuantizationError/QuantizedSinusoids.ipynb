{
 "cells": [
  {
   "cell_type": "markdown",
   "metadata": {},
   "source": [
    "<p style=\"font-size: 30pt; font-weight: bold; color: #B51F1F;\">Non-Harmonic Distortion in a Quantized Sinusoid <br> (Tsividis' Paradox)</p>\n",
    "<div align=\"right\"><a href=\"https://people.epfl.ch/paolo.prandoni\">Paolo Prandoni</a>, <a href=\"https://www.epfl.ch/labs/lcav/\">LCAV, EPFL</a></div>\n",
    "<br />"
   ]
  },
  {
   "cell_type": "code",
   "execution_count": null,
   "metadata": {
    "tags": []
   },
   "outputs": [],
   "source": [
    "%matplotlib inline\n",
    "import matplotlib.pyplot as plt\n",
    "import numpy as np\n",
    "import scipy.signal as sp\n",
    "import scipy.special as ss\n",
    "from scipy.io import wavfile\n",
    "import IPython\n",
    "from ipywidgets import interactive, fixed"
   ]
  },
  {
   "cell_type": "code",
   "execution_count": null,
   "metadata": {
    "tags": []
   },
   "outputs": [],
   "source": [
    "plt.rcParams[\"figure.figsize\"] = (14,4)"
   ]
  },
  {
   "cell_type": "code",
   "execution_count": null,
   "metadata": {
    "tags": []
   },
   "outputs": [],
   "source": [
    "# helper functions\n",
    "\n",
    "def play_sound(SF, s, volume=1):\n",
    "    # play a sound with a volume factor\n",
    "    x = np.copy(s) * volume\n",
    "    # should be IPython.display.Audio(x, rate=SF, normalize=False) but the normalize flag is\n",
    "    # not supported in Colab\n",
    "    x[-1] = 1\n",
    "    return IPython.display.Audio(x, rate=SF)\n",
    "\n",
    "def stem(x, color='tab:blue'):\n",
    "    # stem with chosen color\n",
    "    markerline, stemlines, baseline = plt.stem(x, use_line_collection=True, basefmt='k');\n",
    "    markerline.set_color(color)\n",
    "    stemlines.set_color(color)"
   ]
  },
  {
   "cell_type": "code",
   "execution_count": null,
   "metadata": {
    "tags": []
   },
   "outputs": [],
   "source": [
    "# if running in Colab, import audio files\n",
    "if 'google.colab' in str(get_ipython()):\n",
    "    import requests\n",
    "    for file in ['boleroA', 'boleroM']:\n",
    "        r = requests.get('https://github.com/prandoni/scrapbook/blob/master/tsividis/' + file + '.wav?raw=true')\n",
    "        open(file + '.wav', 'wb').write(r.content)"
   ]
  },
  {
   "cell_type": "markdown",
   "metadata": {},
   "source": [
    "# Introduction\n",
    "\n",
    "In this notebook we will study the effects of (coarse) quantization on a sinusoidal input. In particular, we will concentrate on the non-harmonic distortion incurred by quantizing a pure sinusoid when the amplitude of the sinusoid is small compared to the quantization step. Since non-harmonic distortion is quite jarring acoustically, this side effect of quantization can be relatively noticeable even in CD-quality audio if not properly mitigated by more advanced techniques such as dithering."
   ]
  },
  {
   "cell_type": "markdown",
   "metadata": {},
   "source": [
    "## Quantization\n",
    "\n",
    "In the rest of the notebook we will use memoryless uniform scalar quantizers exclusively, so let's review some of the basic concepts first. \n",
    "\n",
    "An $M$-level uniform scalar quantizer implements a nonlinear function $q: \\mathbb{R} \\rightarrow \\{\\hat{x}_0, \\ldots, \\hat{x}_{M-1}\\}$ that projects the real axis onto a set of $M$ discrete values. The expected operating range for the input values defines a so-called _non-overload_ region, which for simplicity we assume to be the $[-1,1]$ interval. This interval is is divided into $M$ equal-size contiguous bins, half closed on the left, and an input value within the non-overload region will be mapped to a quantized value that coincides to the midpoint of the bin the input falls in; input values outside of the overload region will be mapped to the first or the last quantized values, as appropriate.\n",
    "\n",
    "When $N$ is even, the quantizer is called a _mid-riser_ and an input value of zero will be mapped to the first positive quantization level. Conversely, when $M$ is odd, the quantizer is called a _deadzone quantizer_ and zero will be quantized to zero. \n",
    "\n",
    "The uniform quantization function $q$ for the $[-1,1]$ interval is implemented below and some examples are plotted for different values of $M$."
   ]
  },
  {
   "cell_type": "code",
   "execution_count": null,
   "metadata": {},
   "outputs": [],
   "source": [
    "def quantize(x, M):\n",
    "    if M == 0:\n",
    "        return x\n",
    "    elif M % 2 == 0:\n",
    "        # using a mid-riser quantizer\n",
    "        M = M / 2\n",
    "        k = np.floor(x * M)\n",
    "        k = np.maximum(np.minimum(k, M-1), -M)\n",
    "        return (k + 0.5) / M\n",
    "    else:\n",
    "        # using a deadzone quantizer\n",
    "        k = np.round(np.abs(x) * M / 2)\n",
    "        k = np.minimum((M - 1) / 2, k)\n",
    "        return (np.sign(x) * k / M * 2 )"
   ]
  },
  {
   "cell_type": "code",
   "execution_count": null,
   "metadata": {},
   "outputs": [],
   "source": [
    "x = np.arange(-1, 1, .01)\n",
    "for ix, M in enumerate([2, 3, 8]):\n",
    "    plt.subplot(1, 3, ix+1)\n",
    "    plt.plot(x,x);    \n",
    "    plt.plot(x, quantize(x, M), '.');"
   ]
  },
  {
   "cell_type": "markdown",
   "metadata": {},
   "source": [
    "## Tsividis' Paradox\n",
    "\n",
    "Assume $x(t)$ is a bandlimited continuous-time signal with spectral support over $[-f_0, f_0]$. The textbook A/D conversion scheme cascades a sampler at a sampling frequency $F_s > 2f_0$ with a $M$-level memoryless uniform scalar quantizer like so:\n",
    "\n",
    "<img width=\"400\" src=\"img/sbq.png\">\n",
    "\n",
    "Since $x(t)$ is bandlimited, $x[n]$ is a lossless representation of the analog signal; the distortion introduced by the quantizer is usually modeled as additive discrete-time white noise with uniform power spectral density equal to $\\Delta^2/12$, where $\\Delta$ is the quantization step (and, in our setup, $\\Delta = 2/M$). This _high resolution_ model is in fact a linearization of the quantization process which works reasonably well provided that $M$ is sufficiently large and that the input does not overload the quantizer. More specifically, for the hypothesis to hold, it must be $|x[n]| <  1$ and $\\Delta$ must be sufficiently small compared to the excursion of the input values; this implies that we expect the input to be \"full range\" and that all the quantization levels are in use.\n",
    "\n",
    "Now, here comes Yannis Tsividis' key observation: since quantization and sampling are both memoryless operations, their order can be interchanged like so without affecting the overall result:\n",
    "\n",
    "<img width=\"400\" src=\"img/qbs.png\">\n",
    "\n",
    "However, since the function $q$ is discontinuous, it is clear that $\\hat{x}(t)$ is no longer bandlimited and therefore the sampling operation will incur aliasing. While in general the aliasing will be sufficiently complicated as to appear similar to a noise floor, in the case of simple input signals (such as a sinusoid) and few quantization levels, the spectral structure of the noise can be decidedly non-white. "
   ]
  },
  {
   "cell_type": "markdown",
   "metadata": {},
   "source": [
    "## Harmonic vs Non-Harmonic Distortion\n",
    "\n",
    "To see why the spectral structure of the quantization noise is important, especially in audio applications, recall that, given a pure tone at frequency $\\omega_c$, there are two types of processing distortion with very different psychoacoustic consequences:\n",
    "\n",
    " * **harmonic** distortion produces unwanted spectral content at integer multiples of $\\omega_c$; think for instance of turning a sinusoid into a square wave via two-level quantization. This type of distortion, while audible, is considered acoustically acceptable within certain limits since it follows the spectral pattern of most naturally occurring periodic sounds.\n",
    " * **non-harmonic** distortion, conversely, will appear as spectral lines at frequencies that are not a multiple of $\\omega_c$; since this distortion is not harmonically related to the frequency of the sinusoid, it will sound spurious and will be much more disturbing; needless to say, this is the kind of distortion introduced by aliasing."
   ]
  },
  {
   "cell_type": "markdown",
   "metadata": {},
   "source": [
    "The difference between these two types of distortion can be demonstrated acoustically with this simple comparison: given a sinusoid within acoustic range, we first introuduce increasing amounts of harmonic distortion by using progressively harder clipping via a sigmoidal nonlinearity; you can notice how the timbre of the resulting sound changes over time but the perceived pitch remains the same. The instantaneous nonlinearity, designed to minimize high-frequency content, is given by \n",
    "\n",
    "$$\n",
    "    f_\\alpha(x) = \\frac{ \\arctan ( \\alpha \\cdot x ) }{\\arctan ( \\alpha ) }\n",
    "$$"
   ]
  },
  {
   "cell_type": "code",
   "execution_count": null,
   "metadata": {},
   "outputs": [],
   "source": [
    "for alpha in [1, 2, 4, 8, 14, 30]:\n",
    "    plt.plot(np.linspace(-1, 1, 1000), np.arctan(alpha * np.linspace(-1, 1, 1000)) / np.arctan(alpha))"
   ]
  },
  {
   "cell_type": "code",
   "execution_count": null,
   "metadata": {},
   "outputs": [],
   "source": [
    "fs, A, B = 16000, 11, 400\n",
    "alphas = [1, 2, 4, 8, 10, 14, 16]\n",
    "M = len(alphas)\n",
    "x = np.zeros(M * fs)\n",
    "\n",
    "# progessively harder clipping\n",
    "for n, alpha in enumerate(alphas):\n",
    "    x[n*fs:(n+1)*fs] = np.arctan(alpha * np.sin(1 + (2 * np.pi / B) * A * (np.arange(0, fs) % B))) / np.arctan(alpha)\n",
    "play_sound(fs, x, volume=0.3)"
   ]
  },
  {
   "cell_type": "markdown",
   "metadata": {},
   "source": [
    "On the other hand, if we quantize the same sinusoid with progressively larger quantization bins, we can distinctly hear the \"bell-like\" sound of harmonically unrelated components appearing over time."
   ]
  },
  {
   "cell_type": "code",
   "execution_count": null,
   "metadata": {},
   "outputs": [],
   "source": [
    "# progressively coarser quantization\n",
    "for n in range(M, 0, -1):\n",
    "    x[(M-n)*fs:(M+1-n)*fs] = quantize(np.sin(1 + (2 * np.pi / B) * A * (np.arange(0, fs) % B)), 2**n)\n",
    "play_sound(fs, x, volume=0.3)"
   ]
  },
  {
   "cell_type": "markdown",
   "metadata": {},
   "source": [
    "## Ravel's Bolero\n",
    "\n",
    "<img width=\"250\" style=\"float: right; margin: 10px 20px;\" src=\"img/bolero_first.jpg\">\n",
    "\n",
    "In general, the high resolution hypothesis applies to most digital audio recordings, since the number of bits per sample is at least 16 and therefore the associated quantization step is very small with respect to the full excursion of the audio waveform. Nevertheless, Tsividis claims that, in early CD releases, the type of distortion introduced by quantization was not yet well understood and, in some cases, low-amplitude simple waveforms exhibited clear signs of nonlinear distortion. \n",
    "\n",
    "A typical example of a recording that could cause trouble is given by Ravel' Bolero. The piece begins with a melody played by a single flute and ends with an orchestral _tutti_; the dynamic moves from an inital _pianissimo_ to a final a _fortissimo_ for an acoustic dynamic range that in a live performance exceeds 100dB. Since this is more than the dynamic range provided by a CD, some compression during mastering must be deployed in order to avoid clipping. The following figure shows the envelope of a full performance as recorded on CD:\n",
    "\n",
    "<img width=\"400\" src=\"img/bolero_wav.png\">\n",
    "\n",
    "Regardless of mastering strategy, however, the dynamic excursion of the piece is such that the initial portion spans a much smaller number of quantization levels and therefore the high resolution hypothesis may no longer holds. We can verify this phenomenon by exacerbating the problem via a coarse re-quantization of different Bolero segments."
   ]
  },
  {
   "cell_type": "code",
   "execution_count": null,
   "metadata": {},
   "outputs": [],
   "source": [
    "def play_quantized(excerpt, levels):\n",
    "    # assuming 16-bit integer values for sound samples\n",
    "    SF, s = wavfile.read('snd/' + excerpt + '.wav')\n",
    "    return play_sound(SF, quantize(s / 32767, levels))"
   ]
  },
  {
   "cell_type": "markdown",
   "metadata": {},
   "source": [
    "Here we first play a segment from the middle of the piece at 16bps and then a version quantized over 8bps; the coarsely quantized version sounds low-quality but the main impairment is perceived as a higher noise floor:"
   ]
  },
  {
   "cell_type": "code",
   "execution_count": null,
   "metadata": {},
   "outputs": [],
   "source": [
    "play_quantized('boleroM', 2**16)"
   ]
  },
  {
   "cell_type": "code",
   "execution_count": null,
   "metadata": {},
   "outputs": [],
   "source": [
    "play_quantized('boleroM', 2**8)"
   ]
  },
  {
   "cell_type": "markdown",
   "metadata": {},
   "source": [
    "Here we do the same using the first occurrence of the theme at the beginning of the piece. We can hear the obvious non-harmonic distortion in the coarsely quantized version, where the noise is clearly correlated to the original signal "
   ]
  },
  {
   "cell_type": "code",
   "execution_count": null,
   "metadata": {},
   "outputs": [],
   "source": [
    "play_quantized('boleroA', 2**16)"
   ]
  },
  {
   "cell_type": "code",
   "execution_count": null,
   "metadata": {},
   "outputs": [],
   "source": [
    "play_quantized('boleroA', 2**8)"
   ]
  },
  {
   "cell_type": "markdown",
   "metadata": {},
   "source": [
    "# Numerical Experiments"
   ]
  },
  {
   "cell_type": "markdown",
   "metadata": {},
   "source": [
    "## Looking for non-harmonic distortion\n",
    "\n",
    "Before tackling the problem from a theoretical angle, let's try to gain some insight from numerical simulations. Since the sound of the opening flute in the Bolero is close to a pure sinusoid, we will be concentrating on the non-harmonic distortion incurred when quantizing a pure sine. \n",
    "\n",
    "Let $\\mathbf{x}$ be the sampled version of a continuous-time sinusoid with frequency $f_0$, and assume for now that $f_0$ is a fractional multiple of the sampling frequency $F_s$, that is, $f_0 = \\frac{A}{B}F_s$ with $A$ and $B$ coprime. The discrete-time sinusoids will be of the form \n",
    "\n",
    "$$\n",
    "    x[n] = \\sin\\left(2\\pi\\frac{A}{B}n\\right),\n",
    "$$\n",
    "\n",
    "it will be periodic with period $B$ and it will span $A$ cycles over $B$ samples. The natural Fourier representation for the signal is a DFS vector $\\mathbf{X}\\in \\mathbb{C}^B$, which contains a single spectral line at index $k=A$. "
   ]
  },
  {
   "cell_type": "code",
   "execution_count": null,
   "metadata": {},
   "outputs": [],
   "source": [
    "def quantized_sinusoid(A, B, M=0, initial_phase=1):\n",
    "    # add an initial phase non commensurable with pi to eliminate quantization of zero values\n",
    "    x = np.sin(initial_phase + 2 * np.pi * ((A * np.arange(0, B)) % B) / B)\n",
    "    qx = quantize(x, M)\n",
    "    return {\n",
    "        'original' : x, \n",
    "        'quantized' : qx, \n",
    "        # square magnitude of the normalized DFS for positive frequencies\n",
    "        'DFS' : (np.abs(np.fft.fft(qx))[:int(np.ceil(B/2))] / B ) ** 2 \n",
    "    }"
   ]
  },
  {
   "cell_type": "code",
   "execution_count": null,
   "metadata": {},
   "outputs": [],
   "source": [
    "stem(quantized_sinusoid(3, 17)['DFS'])"
   ]
  },
  {
   "cell_type": "markdown",
   "metadata": {},
   "source": [
    "Now, if we quantize $\\mathbf{x}$ to $\\hat{\\mathbf{x}}$, the resulting waveform will still be periodic with a period of $B$ samples, but the quantization will introduce distortion; in the frequency domain we will differentiate between the following:\n",
    "\n",
    " * harmonic distortion will affects the DFS coefficient whose index is a multiple of $A$;\n",
    " * non-harmonic distortion will affect the other coefficients, and we are interested to see if noticeable peaks appear."
   ]
  },
  {
   "cell_type": "code",
   "execution_count": null,
   "metadata": {},
   "outputs": [],
   "source": [
    "def find_nhd(A, dfs, full=False):\n",
    "    # zero out harmonic components to highlight non-harmonic content\n",
    "    N = int(np.ceil(len(dfs) / 2)) if full else len(dfs)\n",
    "    nhd = np.copy(dfs[:N])\n",
    "    nhd[::A] = 0\n",
    "    return max(nhd), nhd"
   ]
  },
  {
   "cell_type": "markdown",
   "metadata": {},
   "source": [
    "Since the effect was originally remarked while listening to the opening bars of Ravel's Bolero, let's first choose a ratio that brings us to the frequency range of the melody as played by the flute. The first note is a $C_5$, which corresponds to 523.25Hz. Assuming the usual 44.1KHz sampling rate, by picking $B=257$ we obtain a base frequency corresponding approximately to an $F_3$ and by setting $A=3$ we obtain roughly a $C_5$. \n",
    "\n",
    "The following function shows the original and quantized sinusoid over $B$ samples, together with the first half of the normalized DFS coefficients; the bottom panel shows again the DFS, but with all bins at multiples of $A$ set to zero in order to focus on the non-harmonic distortion."
   ]
  },
  {
   "cell_type": "code",
   "execution_count": null,
   "metadata": {},
   "outputs": [],
   "source": [
    "def show_nhd(A=5, B=257, M=2):\n",
    "    s = quantized_sinusoid(A, B, M)\n",
    "    peak, nhd = find_nhd(A, s['DFS'])\n",
    "    \n",
    "    plt.subplot(1, 2, 1)    \n",
    "    plt.plot(s['original']);\n",
    "    plt.plot(s['quantized']);\n",
    "    plt.title('signal')\n",
    "    \n",
    "    plt.subplot(1, 2, 2)    \n",
    "    stem(s['DFS'])\n",
    "    plt.title('DFS')\n",
    "    \n",
    "    plt.figure()\n",
    "    stem(nhd)\n",
    "    plt.ylim(0, 0.0002)\n",
    "    plt.title('non-harmonic components, max=' + str(peak))"
   ]
  },
  {
   "cell_type": "code",
   "execution_count": null,
   "metadata": {},
   "outputs": [],
   "source": [
    "v = interactive(show_nhd, M=(2,128), A=(1, 11), B=fixed(257))\n",
    "display(v)"
   ]
  },
  {
   "cell_type": "markdown",
   "metadata": {},
   "source": [
    "## Searching for the worst case\n",
    "\n",
    "In order to get a sense for how bad non-harmonic distortion can get, we can try to search over a large number of $A/B$ ratios between $0$ and $1/2.$ Interestingly, the sequence of _non-reducible_ fractions in the unit interval with denominator smaller or equal to $B$  is known as the [**Farey sequence**](https://en.wikipedia.org/wiki/Farey_sequence) of order $B$. Even more interestingly, the algorithm to generate a Farey sequence of any order is extremely simple:"
   ]
  },
  {
   "cell_type": "code",
   "execution_count": null,
   "metadata": {},
   "outputs": [],
   "source": [
    "def farey_sequence(n):\n",
    "    \"\"\"Build the order-N Farey sequence up to 1/2.\"\"\"\n",
    "    farey = []\n",
    "    (a, b, c, d) = (0, 1, 1, n)\n",
    "    while (c <= n):\n",
    "        k = (n + b) // d\n",
    "        (a, b, c, d) = (c, d, k * c - a, k * d - b)\n",
    "        farey.append((a, b))\n",
    "        if a/b >= 0.5:\n",
    "            break\n",
    "    return farey"
   ]
  },
  {
   "cell_type": "markdown",
   "metadata": {},
   "source": [
    "We can plot the element of the sequence and verify the well-known counterintuitive patterns that the rationals produce on the real line"
   ]
  },
  {
   "cell_type": "code",
   "execution_count": null,
   "metadata": {},
   "outputs": [],
   "source": [
    "for (a, b) in farey_sequence(50):\n",
    "    plt.plot(b, a, 'o', color=plt.cm.tab20b(a % 20))"
   ]
  },
  {
   "cell_type": "markdown",
   "metadata": {},
   "source": [
    "With this, we can try to find the maximum value of the non-harmonic distortion over a wider range of ratios. The following function computes the non-harmonic DFS component with maximum energy for quantized sinusoids whose frequency is determined by the Farey sequence values. The scatter plot displays the results either as a function of the ratio $A/B$ or as function of the denominator $B$ parametrized by $A$. "
   ]
  },
  {
   "cell_type": "code",
   "execution_count": null,
   "metadata": {},
   "outputs": [],
   "source": [
    "def find_max_nhd(N, M=2, parametric=False):\n",
    "    max_value = (0, 0, 0)\n",
    "    for (A, B) in farey_sequence(N):\n",
    "        peak, _ = find_nhd(A, quantized_sinusoid(A, B, M)['DFS'])\n",
    "        plt.plot(B if parametric else (A / B), peak, 'o', color=plt.cm.tab20b(A % 20))\n",
    "        if peak > max_value[0]:\n",
    "            max_value = (peak, A, B)\n",
    "    plt.title(f'max value is {max_value[0]}, frequency {max_value[1]}/{max_value[2]}')"
   ]
  },
  {
   "cell_type": "markdown",
   "metadata": {},
   "source": [
    "Running the algorithm for large values of $B$ takes a long time (Farey sequences grow as $B^2$) but, if you are patient, you end up getting a picture like this for the parametrized plot:\n",
    "\n",
    "![title](img/nhd.png)\n",
    "\n",
    "It is clear that the behavior stabilizes for relatively small values of $B$ (that is, for low frequencies), so let's concentrate on the range for $B$ where the non-harmonic distortion is higher. Again, with 1 bit per sample, we obtain"
   ]
  },
  {
   "cell_type": "code",
   "execution_count": null,
   "metadata": {},
   "outputs": [],
   "source": [
    "find_max_nhd(100, 2, parametric=True)"
   ]
  },
  {
   "cell_type": "markdown",
   "metadata": {},
   "source": [
    "Interestingly, if we increase the number of bits per sample, the pattern changes completely; this extremely complex dependency on the problem's parameters is a recurring theme of this notebook."
   ]
  },
  {
   "cell_type": "code",
   "execution_count": null,
   "metadata": {},
   "outputs": [],
   "source": [
    "find_max_nhd(100, 3, parametric=True)"
   ]
  },
  {
   "cell_type": "markdown",
   "metadata": {},
   "source": [
    "As the quantization becomes finer, the non-harmonic components become negligible, in line with the high-resolution hypothesis:"
   ]
  },
  {
   "cell_type": "code",
   "execution_count": null,
   "metadata": {},
   "outputs": [],
   "source": [
    "find_max_nhd(100, 32768, parametric=True)"
   ]
  },
  {
   "cell_type": "markdown",
   "metadata": {},
   "source": [
    "From a different perspective, the non-parametrized plots show that, as we increase the normalized frequency of the sinusoid, the max non-harmonic distortion seems to cluster around discrete steps. We will see an explanation for this pattern later."
   ]
  },
  {
   "cell_type": "code",
   "execution_count": null,
   "metadata": {},
   "outputs": [],
   "source": [
    "find_max_nhd(150, 2)"
   ]
  },
  {
   "cell_type": "code",
   "execution_count": null,
   "metadata": {},
   "outputs": [],
   "source": [
    "find_max_nhd(150, 3)"
   ]
  },
  {
   "cell_type": "markdown",
   "metadata": {},
   "source": [
    "# Theoretical Analysis"
   ]
  },
  {
   "cell_type": "markdown",
   "metadata": {},
   "source": [
    "## Some DSP archeology\n",
    "\n",
    "In 1947, Clavier, Panter and Grieg published the paper [\"Distortion in a Pulse Count Modulation System\"](https://ieeexplore.ieee.org/document/5059539), which provides some fundamental insight into the problem. Consider an analog input signal of the form $x(t) = \\sin(t)$; in the quantizer-before-sampler circuit, the discrete-amplitude, continuous-time signal $\\hat{x}(t)$ would look like so:"
   ]
  },
  {
   "cell_type": "code",
   "execution_count": null,
   "metadata": {},
   "outputs": [],
   "source": [
    "t = np.arange(0, 2 * np.pi, 0.001)\n",
    "plt.plot(t, quantize(np.sin(t), 15));"
   ]
  },
  {
   "cell_type": "markdown",
   "metadata": {},
   "source": [
    "<img width=\"200\" style=\"float: right; margin: 10px;\" src=\"img/clavier.jpg\">\n",
    "\n",
    "Clavier et al. decompose this piecewise-constant periodic waveform as the sum of $N$ pairs of rectangular steps of appropriate width, as shown in the figure reproduced here. Then, using a Fourier series expansion, they express $\\hat{x}(t)$ in closed form as:\n",
    "\n",
    "$$\n",
    "  \\hat{x}(t) = \\sum_{h=1}^{N} \\sum_{k=0}^{\\infty} \\frac{4}{\\pi N (2k+1)} \\cos\\left[(2k+1)\\arcsin\\left(\\frac{2h-1}{2N}\\right) \\right]\\sin((2k+1)t)\n",
    "$$\n",
    "\n",
    "This corresponds roughly to the effects of applying a deadzone quantizer with $M = 2N - 1$ levels to the input; we can verify the expression numerically like so (and notice the unavoidable Gibbs phenomenon at the points of discontinuity):"
   ]
  },
  {
   "cell_type": "code",
   "execution_count": null,
   "metadata": {},
   "outputs": [],
   "source": [
    "def quantized_sinusoid_fs(N, terms=1000):\n",
    "    t = np.arange(0, 2 * np.pi, 0.001)\n",
    "    x = np.zeros(len(t))\n",
    "    for h in range(1, N):\n",
    "        for k in range(0, terms):\n",
    "            x = x + np.cos((2 * k + 1) * np.arcsin((2 * h - 1) / N / 2)) * np.sin((2 * k + 1) * t) / (2 * k + 1)\n",
    "    x = x * 4 / np.pi / N\n",
    "    return t, x"
   ]
  },
  {
   "cell_type": "code",
   "execution_count": null,
   "metadata": {},
   "outputs": [],
   "source": [
    "plt.plot(*quantized_sinusoid_fs(8));"
   ]
  },
  {
   "cell_type": "markdown",
   "metadata": {},
   "source": [
    "There are some slight technicalities that should be addressed to adapt Clavier's analysis to our problem, since the paper only considers deadzone quantizers and uses a slightly different definition for the quantization function than we do; however we will not pursue this approach further since these issues will be addressed by the more general method presented below. \n",
    "\n",
    "The fundamental piece of intuition provided by this analysis is however correct: **the quantized continuous-time waveform contains harmonics at all odd multiples of the input's frequency** and, therefore, spectral lines beyond the Nyquist frequency will be aliased by the sampler."
   ]
  },
  {
   "cell_type": "markdown",
   "metadata": {},
   "source": [
    "## Quantization noise analysis\n",
    "\n",
    "Robert Gray's 1990 paper [\"Quantization Noise Spectra\"](https://ieeexplore.ieee.org/document/59924) provides an extremely in-depth analysis of the distortion introduced by quantization from a discrete-time perspective. In the case of uniform quantization, Gray generalizes Clavier's Fourier series approach by considering the expression for the _normalized quantization error_\n",
    "\n",
    "$$\n",
    "    \\eta(x) = \\frac{q(x) - x}{\\Delta} =  \\frac{q(x) - x}{2/M} \\quad \\in [-0.5, 0.5].\n",
    "$$\n",
    "\n",
    "When the input $x$ is in the non-overload region of an $M$-level quantizer, $\\eta(x)$ is a periodic function with period $M/2$, as shown here:"
   ]
  },
  {
   "cell_type": "code",
   "execution_count": null,
   "metadata": {},
   "outputs": [],
   "source": [
    "x = np.arange(-1, 1, .001)\n",
    "for ix, M in enumerate([2, 3, 8]):\n",
    "    plt.subplot(1, 3, ix+1)\n",
    "    e = (quantize(x, M) - x) / (2 / M)\n",
    "    plt.plot(x, e);    \n",
    "    plt.plot(x, e, '.');"
   ]
  },
  {
   "cell_type": "markdown",
   "metadata": {},
   "source": [
    "The normalized quantization error, therefore, can be expressed as a Fourier series; the expression turns out to be\n",
    "\n",
    "$$\n",
    "    \\eta(x) = \\sum_{k=1}^{\\infty} \\frac{(-1)^{kM}}{\\pi k}\\sin\\left(\\pi k M x\\right)\n",
    "$$\n",
    "\n",
    "where the term $(-1)^{kM}$ is identically one for mid-riser quantizers and alternates in sign for deadzone quantizers.\n",
    "\n",
    "We can verify the relatively quick convergence of the FS numerically:"
   ]
  },
  {
   "cell_type": "code",
   "execution_count": null,
   "metadata": {},
   "outputs": [],
   "source": [
    "def nqe_fs(x, M, terms=1000):\n",
    "    e = np.zeros(len(x))\n",
    "    s = [1, -1 if M % 2 == 1 else 1]\n",
    "    for k in range(1, terms):\n",
    "        e = e + s[k % 2] * np.sin(np.pi * k * x * M) / (np.pi * k)\n",
    "    return x, e"
   ]
  },
  {
   "cell_type": "code",
   "execution_count": null,
   "metadata": {},
   "outputs": [],
   "source": [
    "for ix, M in enumerate([2, 3, 8]):\n",
    "    plt.subplot(1, 3, ix+1)\n",
    "    plt.plot(*nqe_fs(np.arange(-1, 1, .01), M))"
   ]
  },
  {
   "cell_type": "markdown",
   "metadata": {},
   "source": [
    "### Quantization noise for a sinusoidal input\n",
    "\n",
    "Let's now consider the standard sampling before quantization setup; assume the input is a pure sinusoid and that the signal entering the quantizer is $x[n] = \\sin(\\omega_0 n + \\theta)$ with $0 \\le \\omega_0 < 2\\pi$. The associated normalized quantization error signal is $\\eta[n] = \\eta(\\sin(\\omega_0 n + \\theta))$ and we are interested in computing its spectrum. \n",
    "\n",
    "The Fourier series expansion of the error function is more conveniently expressed using complex exponentials:\n",
    "\n",
    "$$\n",
    "    \\eta(x) = \\sum_{k \\neq 0} \\frac{(-1)^{kM}}{j2\\pi k}e^{j\\pi k M x}.\n",
    "$$\n",
    "\n",
    "If we replace $x$ by $\\sin(\\omega_0 n + \\theta)$ we end up with terms of the form $e^{j \\alpha \\sin \\beta}$; these can be expanded in terms of Bessel functions using the so-called Jacobi-Anger formula:\n",
    "\n",
    "$$\n",
    "    e^{j \\alpha \\sin \\omega} = \\sum_{m=-\\infty}^{\\infty} J_m(\\alpha)e^{j\\omega m}.\n",
    "$$\n",
    "\n",
    "Since Bessel functions are even or odd according to whether their order is even or odd, we have:\n",
    "\n",
    "$$\n",
    "\\begin{align*}\n",
    "    \\eta[n] = \\eta(\\sin(\\omega_0 n + \\theta)) &= \\sum_{k \\neq 0} \\frac{(-1)^{kM}}{j2\\pi k}e^{j\\pi k M \\sin(\\omega_0 n + \\theta)} \\\\\n",
    "      &= \\sum_{k \\neq 0} \\frac{(-1)^{kM}}{j2\\pi k} \\sum_{m=-\\infty}^{\\infty} J_m(\\pi k M)e^{j (2m+1)\\theta} e^{j (2m+1)\\omega_0 n} \\\\\n",
    "      &= \\sum_{m=-\\infty}^{\\infty} \\left[ e^{j (2m+1)\\theta} \\sum_{k = 1}^{\\infty} \\frac{(-1)^{kM}}{j\\pi k}J_{2m+1}(\\pi k M) \\right] e^{j (2m+1)\\omega_0 n} \\\\ \\\\\n",
    "      &= \\sum_{\\varphi \\in \\Omega(\\omega_0)} b(\\varphi) e^{j \\varphi n}\n",
    "\\end{align*} \n",
    "$$\n",
    "\n",
    "The expression shows that the normalized error is the sum of a set of complex exponentials where\n",
    "\n",
    " * the frequencies belong to a set $\\Omega(\\omega_0)$ defined by equivalence class $\\{(2m+1)\\omega_0 \\mod 2\\pi\\}_{m \\in \\mathbb{Z}}$; this set includes all the odd multiples of the fundamental frequency (that appear in Clavier's analysis), aliased over the $[0, 2\\pi]$ interval;\n",
    " \n",
    " * for each frequency $\\varphi \\in \\Omega(\\omega_0)$ the magnitude of the relative complex exponential is given by\n",
    " $$\n",
    "   b(\\varphi) = \\sum_{m \\in I(\\varphi)} \\left[ e^{j (2m+1)\\theta} \\sum_{k = 1}^{\\infty} \\frac{(-1)^{kM}}{j\\pi k}J_{2m+1}(\\pi k M) \\right] \\label{eq:vector_ray}  \\tag{1}\n",
    " $$\n",
    " where $I(\\varphi)$ is the set of integers $m$ for which $(2m+1)\\omega_0 \\equiv \\varphi \\mod 2\\pi$.\n",
    " \n",
    "This representation allows us to express the Power Spectral Density of the normalized quantization error for a full-range sinusoidal input as \n",
    "\n",
    "$$\n",
    "    P_{\\omega_0}(e^{j\\omega}) = \\sum_{\\varphi \\in \\Omega(\\omega_0)} |b(\\varphi)|^2 \\delta(\\omega - \\varphi).\n",
    "$$"
   ]
  },
  {
   "cell_type": "markdown",
   "metadata": {},
   "source": [
    "### Rational normalized frequency\n",
    "\n",
    "If $\\omega_0 = 2\\pi(A/B)$, with $A$ and $B$ coprime integers, the set $\\Omega(\\omega_0)$ is finite; using modular arithmetic we can show that \n",
    "\n",
    "$$\n",
    "\\Omega\\left(2\\pi\\frac{A}{B}\\right) = \\left\\{\\frac{2i\\pi}{B}\\right\\} \\quad \\mbox{with} \\begin{cases}\n",
    "    i = 0, 1, 2, \\ldots, B-1 & \\mbox{if $A$ or $B$ even} \\\\\n",
    "    i = 1, 3, 5, \\ldots, B-1 & \\mbox{if $A$ and $B$ odd} \n",
    "    \\end{cases}\n",
    "$$\n",
    " \n",
    "and\n",
    "\n",
    "$$\n",
    "    I\\left(\\frac{2i\\pi}{B}\\right) = \\{i[A]^{-1}_{B} + pB\\}_{p \\in \\mathbb{Z}}\n",
    "$$\n",
    "\n",
    "where $[A]^{-1}_{B}$ is the modular inverse of $A$, i.e. $A[A]^{-1}_{B} \\equiv 1 \\mod B$.\n",
    "    \n",
    "In this case, the power spectral density of the error contains a finite number of spectral lines at multiples of $2\\pi/B$ and the power associated to each line $|b(2i\\pi/B)|^2$ should correspond to the square magnitude of the $i$-th coefficient of the $B$-point DFS of the error signal."
   ]
  },
  {
   "cell_type": "markdown",
   "metadata": {},
   "source": [
    "The following function computes an approximation of the coefficients $|b(2i\\pi/B)|^2$ for $\\omega_0 = 2\\pi(A/B)$, scaled to represent the non-normalized quantization error:"
   ]
  },
  {
   "cell_type": "code",
   "execution_count": null,
   "metadata": {},
   "outputs": [],
   "source": [
    "def nqe_sin_psd(A, B, M, phase=1):\n",
    "    s = [1, -1 if M % 2 == 1 else 1]\n",
    "    b = np.zeros(B, dtype=complex)\n",
    "    m_lim, k_lim = max(1500, 2 * B), 600\n",
    "    for m in range(-m_lim, m_lim):\n",
    "        c = 0\n",
    "        for k in range(1, k_lim):\n",
    "            c += s[k % 2] * ss.jv(2 * m + 1, np.pi * k * M) / k\n",
    "        c /= 1j * np.pi\n",
    "        b[((2 * m + 1) * A) % B] += c * np.exp(1j * phase * (2 * m + 1))\n",
    "    # undo error normalization to obtain the real error PSD\n",
    "    b = np.abs(b  * (2 / M)) ** 2\n",
    "    print('Max NHD (theory): ', find_nhd(A, b, full=True)[0])\n",
    "    return b"
   ]
  },
  {
   "cell_type": "markdown",
   "metadata": {},
   "source": [
    "This function computes the DFS coefficients of the quantization error via an FFT:"
   ]
  },
  {
   "cell_type": "code",
   "execution_count": null,
   "metadata": {},
   "outputs": [],
   "source": [
    "def nqe_sin_dfs(A, B, M, phase=1):\n",
    "    s = quantized_sinusoid(A, B, M, phase)\n",
    "    ne = (s['quantized'] - s['original']) \n",
    "    b = np.abs(np.fft.fft(ne / B)) ** 2\n",
    "    print('Max NHD (FFT):    ', find_nhd(A, b, full=True)[0])\n",
    "    return b"
   ]
  },
  {
   "cell_type": "markdown",
   "metadata": {},
   "source": [
    "We can now compare the result and verify that the theoretical derivation agrees with the experimental data"
   ]
  },
  {
   "cell_type": "code",
   "execution_count": null,
   "metadata": {},
   "outputs": [],
   "source": [
    "P = (3, 8, 2)\n",
    "stem(nqe_sin_psd(*P), 'tab:green')\n",
    "stem(nqe_sin_dfs(*P), 'tab:red')"
   ]
  },
  {
   "cell_type": "code",
   "execution_count": null,
   "metadata": {},
   "outputs": [],
   "source": [
    "P = (5, 14, 3)\n",
    "stem(nqe_sin_psd(*P), 'tab:green')\n",
    "stem(nqe_sin_dfs(*P), 'tab:red')"
   ]
  },
  {
   "cell_type": "markdown",
   "metadata": {},
   "source": [
    "### Irrational normalized frequency\n",
    "\n",
    "If $\\omega_0$ is not a rational multiple of $2\\pi$, the normalized frequency $\\nu = \\omega_0/(2\\pi)$ will be an irrational number between zero and one. In this case the set of _normalized_ frequencies $\\Omega'(\\nu)$ is given by the set\n",
    "\n",
    "$$\n",
    "    \\Omega'(\\nu) = \\{(2m+1)\\nu \\mod 1\\}_{m \\in \\mathbb{Z}} = \\{ \\langle (2m+1)\\nu \\rangle\\}_{m \\in \\mathbb{Z}}\n",
    "$$\n",
    "\n",
    "where $\\langle x \\rangle$ indicates the decimal part of $x$. We can now invoke Weil's Equidistribution theorem to show that the set $\\Omega'(\\nu)$ contains an infinite number of terms which cover the entire $[0, 1]$ interval _uniformly_. The resulting expression for the normalized quantization error will therefore be a dense set of spectral lines. "
   ]
  },
  {
   "cell_type": "markdown",
   "metadata": {},
   "source": [
    "We can approximate the choice of an irrational normalized frequency by choosing a large prime value for $B$. Note that in this case the convergence of the sums of Bessel functions is rather slow."
   ]
  },
  {
   "cell_type": "code",
   "execution_count": null,
   "metadata": {},
   "outputs": [],
   "source": [
    "P = (150, 1021, 2)\n",
    "stem(nqe_sin_psd(*P), 'tab:green')\n",
    "stem(nqe_sin_dfs(*P), 'tab:red')"
   ]
  },
  {
   "cell_type": "markdown",
   "metadata": {},
   "source": [
    "## Non-harmonic distortion patterns\n",
    "\n",
    "Recall the plot of the maximum non-harmonic distortion as a function of normalized frequency and its curious self-similar \"stepladder\" pattern:"
   ]
  },
  {
   "cell_type": "code",
   "execution_count": null,
   "metadata": {},
   "outputs": [],
   "source": [
    "find_max_nhd(150, 2)"
   ]
  },
  {
   "cell_type": "markdown",
   "metadata": {},
   "source": [
    "Based on the previous analysis, we can now understand the structure of the plot. Consider the non-normalized quantization error for a sinusoid of frequency $2\\pi\\nu$ with $0 < \\nu < 1/2$:\n",
    "\n",
    "$$\n",
    "\\begin{align*}\n",
    "    \\frac{2 \\eta(\\sin(2\\pi\\nu n))}{M} &= \\sum_{m=-\\infty}^{\\infty} \\left[ \\frac{2}{M}\\sum_{k = 1}^{\\infty} \\frac{(-1)^{kM}}{j\\pi k}J_{2m+1}(\\pi k M) \\right] e^{j 2\\pi(2m+1)\\nu n} \\\\ \n",
    "      &= \\sum_{m=-\\infty}^{\\infty} c_M(m)\\, e^{j 2\\pi(2m+1)\\nu n};\n",
    "\\end{align*} \n",
    "$$\n",
    "\n",
    "as long as $(2m+1)\\nu < 1/2$ the lines in the quantization error's PSD are harmonically related to the fundamental; non-harmonic distortion will happen when aliasing starts to occur. \n",
    "\n",
    "Now, notice that the coefficients $c_M(m)$ depend only on the number of quantization levels $M$; we can compute and plot the first few with the following function, which shows how $|c_M(m)|^2$ decreases rather quickly with $m$:"
   ]
  },
  {
   "cell_type": "code",
   "execution_count": null,
   "metadata": {},
   "outputs": [],
   "source": [
    "def c_m(N, M=2):\n",
    "    k_lim = 600000\n",
    "    s = [1, -1 if M % 2 == 1 else 1]\n",
    "    c = np.zeros(N, dtype=complex)\n",
    "    for m in range(0, N):\n",
    "        for k in range(1, k_lim):\n",
    "            c[m] += s[k % 2] * ss.jv(2 * m + 1, np.pi * k * M) / k\n",
    "        c[m] /= 1j * np.pi\n",
    "    return np.abs(c * (2 / M)) ** 2"
   ]
  },
  {
   "cell_type": "code",
   "execution_count": null,
   "metadata": {},
   "outputs": [],
   "source": [
    "c2 = c_m(20, 2)\n",
    "stem(c2)"
   ]
  },
  {
   "cell_type": "markdown",
   "metadata": {},
   "source": [
    "Except for $\\nu$ rational, the maximum non-harmonic distortion coincide with the first aliased odd multiple of the fundamental frequency; that is, the max NHD will be equal to $|c_M(m_0)|^2$ where $m_0$ is the minimum integer for which $(2m_0+1)\\nu > 1/2$. \n",
    "\n",
    "By setting $m_0 = 1$, we find that for all normalized frequencies $\\nu > 1/6$ the non-harmonic distortion will be equal to $|c_M(1)|^2$; similarly, for normalized frequencies between $1/10$ and $1/6$, the non-harmonic distortion will be dominated by $|c_M(2)|^2$, and so on."
   ]
  },
  {
   "cell_type": "code",
   "execution_count": null,
   "metadata": {},
   "outputs": [],
   "source": [
    "find_max_nhd(150, 2)\n",
    "for m in range(1, 5):\n",
    "    plt.plot([0.5/(2*m+1), 0.5/(2*m+1)], [0, 0.015], color=plt.cm.tab10(m))\n",
    "    plt.plot([0, 0.5], [c2[m], c2[m]], color=plt.cm.tab10(m))"
   ]
  },
  {
   "cell_type": "markdown",
   "metadata": {},
   "source": [
    "The completely different pattern that we obtain when we move to a three-level quantizer can be understood by looking at the sequence $c_3(m)$; since $c_3(2) \\approx 0$, we get a wider range of frequencies whose non-harmonic distortion is determined by $|c_M(1)|^2$ and, since the sequence is non-monotonic the max NHD will remain more or less the same for $1/18 < \\nu < 1/6$."
   ]
  },
  {
   "cell_type": "code",
   "execution_count": null,
   "metadata": {},
   "outputs": [],
   "source": [
    "c3 = c_m(20, 3)\n",
    "stem(c3)"
   ]
  },
  {
   "cell_type": "code",
   "execution_count": null,
   "metadata": {},
   "outputs": [],
   "source": [
    "find_max_nhd(150, 3)\n",
    "for m in range(1, 5):\n",
    "    plt.plot([0.5/(2*m+1), 0.5/(2*m+1)], [0, 0.015], color=plt.cm.tab10(m))\n",
    "    plt.plot([0, 0.5], [c3[m], c3[m]], color=plt.cm.tab10(m))"
   ]
  },
  {
   "cell_type": "markdown",
   "metadata": {},
   "source": [
    "# Conclusions\n",
    "\n",
    "The linearized model for uniform quantization fails when the high-resolution hypotheses are not fulfilled. In the simple case of a quantized sinusoid, theoretical models show how the quantization noise is due to aliased harmonics at odd multiples of the fundamental frequency. For sufficiently large frequencies at low amplitude with respect to the expected input range, the noise can take the form of perceptually disturbing non-harmonic distortion. Modern music mastering techniques do circumvent this problem by using dithering."
   ]
  }
 ],
 "metadata": {
  "kernelspec": {
   "display_name": "Python 3",
   "language": "python",
   "name": "python3"
  },
  "language_info": {
   "codemirror_mode": {
    "name": "ipython",
    "version": 3
   },
   "file_extension": ".py",
   "mimetype": "text/x-python",
   "name": "python",
   "nbconvert_exporter": "python",
   "pygments_lexer": "ipython3",
   "version": "3.6.10"
  },
  "toc-autonumbering": true
 },
 "nbformat": 4,
 "nbformat_minor": 4
}
